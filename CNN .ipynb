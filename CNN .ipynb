{
 "cells": [
  {
   "cell_type": "code",
   "execution_count": 8,
   "id": "37cf1635-3f17-448a-b63c-9d474010eefd",
   "metadata": {},
   "outputs": [],
   "source": [
    "import os\n",
    "import cv2\n",
    "import numpy as np\n",
    "import matplotlib.pyplot as plt\n",
    "from sklearn.model_selection import train_test_split\n",
    "import tensorflow as tf\n",
    "from tensorflow.keras.preprocessing.image import load_img, img_to_array\n",
    "from tensorflow.keras import layers, models\n",
    "\n",
    "# Set paths\n",
    "DATASET_PATH = \"Deforestation_Data/train/\"\n",
    "\n",
    "# Image size\n",
    "IMG_SIZE = (256, 256)\n"
   ]
  },
  {
   "cell_type": "code",
   "execution_count": 9,
   "id": "6837aa89-26f1-462d-b7a2-152061bbd0b5",
   "metadata": {},
   "outputs": [
    {
     "name": "stdout",
     "output_type": "stream",
     "text": [
      "Skipping corrupted image: -73.15884,46.38819.jpg\n",
      "Training Samples: (5038, 256, 256, 1), Testing Samples: (1260, 256, 256, 1)\n"
     ]
    }
   ],
   "source": [
    "def load_images(folder, label):\n",
    "    images, labels = [], []\n",
    "    for file in os.listdir(folder):\n",
    "        img_path = os.path.join(folder, file)\n",
    "        try:\n",
    "            img = load_img(img_path, target_size=IMG_SIZE, color_mode=\"grayscale\")  \n",
    "            img_array = img_to_array(img) / 255.0  \n",
    "            images.append(img_array)\n",
    "            labels.append(label)\n",
    "        except:\n",
    "            print(f\"Skipping corrupted image: {file}\")\n",
    "    return np.array(images), np.array(labels)\n",
    "\n",
    "# Load images\n",
    "deforestation_images, deforestation_labels = load_images(os.path.join(DATASET_PATH, \"Deforestation\"), 1)\n",
    "normal_images, normal_labels = load_images(os.path.join(DATASET_PATH, \"Normal\"), 0)\n",
    "\n",
    "# Combine dataset\n",
    "X = np.concatenate([deforestation_images, normal_images], axis=0)\n",
    "y = np.concatenate([deforestation_labels, normal_labels], axis=0)\n",
    "\n",
    "# Split into train & test\n",
    "X_train, X_test, y_train, y_test = train_test_split(X, y, test_size=0.2, random_state=42)\n",
    "\n",
    "print(f\"Training Samples: {X_train.shape}, Testing Samples: {X_test.shape}\")\n"
   ]
  },
  {
   "cell_type": "code",
   "execution_count": 15,
   "id": "e1b7053a-e723-4da0-968a-d520fad82757",
   "metadata": {},
   "outputs": [
    {
     "name": "stdout",
     "output_type": "stream",
     "text": [
      "Epoch 1/5\n",
      "\u001b[1m630/630\u001b[0m \u001b[32m━━━━━━━━━━━━━━━━━━━━\u001b[0m\u001b[37m\u001b[0m \u001b[1m201s\u001b[0m 315ms/step - accuracy: 0.7982 - loss: 0.4376 - val_accuracy: 0.8937 - val_loss: 0.2918\n",
      "Epoch 2/5\n",
      "\u001b[1m630/630\u001b[0m \u001b[32m━━━━━━━━━━━━━━━━━━━━\u001b[0m\u001b[37m\u001b[0m \u001b[1m198s\u001b[0m 314ms/step - accuracy: 0.9239 - loss: 0.2177 - val_accuracy: 0.9095 - val_loss: 0.2942\n",
      "Epoch 3/5\n",
      "\u001b[1m630/630\u001b[0m \u001b[32m━━━━━━━━━━━━━━━━━━━━\u001b[0m\u001b[37m\u001b[0m \u001b[1m196s\u001b[0m 310ms/step - accuracy: 0.9294 - loss: 0.1822 - val_accuracy: 0.9278 - val_loss: 0.2043\n",
      "Epoch 4/5\n",
      "\u001b[1m630/630\u001b[0m \u001b[32m━━━━━━━━━━━━━━━━━━━━\u001b[0m\u001b[37m\u001b[0m \u001b[1m202s\u001b[0m 320ms/step - accuracy: 0.9531 - loss: 0.1372 - val_accuracy: 0.9095 - val_loss: 0.2425\n",
      "Epoch 5/5\n",
      "\u001b[1m630/630\u001b[0m \u001b[32m━━━━━━━━━━━━━━━━━━━━\u001b[0m\u001b[37m\u001b[0m \u001b[1m207s\u001b[0m 329ms/step - accuracy: 0.9632 - loss: 0.1057 - val_accuracy: 0.9167 - val_loss: 0.2876\n"
     ]
    },
    {
     "data": {
      "text/plain": [
       "<keras.src.callbacks.history.History at 0x19127882180>"
      ]
     },
     "execution_count": 15,
     "metadata": {},
     "output_type": "execute_result"
    }
   ],
   "source": [
    "def build_classifier():\n",
    "    model = models.Sequential([\n",
    "        layers.Conv2D(32, (3,3), activation='relu', input_shape=(256, 256, 1)),\n",
    "        layers.MaxPooling2D((2,2)),\n",
    "        layers.Conv2D(64, (3,3), activation='relu'),\n",
    "        layers.MaxPooling2D((2,2)),\n",
    "        layers.Conv2D(128, (3,3), activation='relu'),\n",
    "        layers.MaxPooling2D((2,2)),\n",
    "        layers.Flatten(),\n",
    "        layers.Dense(128, activation='relu'),\n",
    "        layers.Dense(1, activation='sigmoid')  # Binary classification\n",
    "    ])\n",
    "    model.compile(optimizer='adam', loss='binary_crossentropy', metrics=['accuracy'])\n",
    "    return model\n",
    "\n",
    "classifier = build_classifier()\n",
    "classifier.fit(X_train, y_train, epochs=5, validation_data=(X_test, y_test), batch_size=8)\n"
   ]
  },
  {
   "cell_type": "code",
   "execution_count": 22,
   "id": "50bf2d6d-3403-4c9e-affa-f190e3b1de16",
   "metadata": {},
   "outputs": [
    {
     "name": "stderr",
     "output_type": "stream",
     "text": [
      "WARNING:absl:You are saving your model as an HDF5 file via `model.save()` or `keras.saving.save_model(model)`. This file format is considered legacy. We recommend using instead the native Keras format, e.g. `model.save('my_model.keras')` or `keras.saving.save_model(model, 'my_model.keras')`. \n"
     ]
    }
   ],
   "source": [
    "classifier.save(\"classifier_model.h5\")\n"
   ]
  },
  {
   "cell_type": "code",
   "execution_count": 12,
   "id": "e7f75f62-f7e8-42ad-b286-629567a89517",
   "metadata": {},
   "outputs": [],
   "source": [
    "def refine_deforestation_mask(image_path):\n",
    "    # Load image\n",
    "    img = cv2.imread(image_path)\n",
    "    img = cv2.resize(img, IMG_SIZE)\n",
    "\n",
    "    # Convert to grayscale\n",
    "    gray = cv2.cvtColor(img, cv2.COLOR_BGR2GRAY)\n",
    "\n",
    "    # Apply adaptive thresholding (to detect clear deforested areas)\n",
    "    thresh = cv2.adaptiveThreshold(gray, 255, cv2.ADAPTIVE_THRESH_GAUSSIAN_C, cv2.THRESH_BINARY_INV, 21, 5)\n",
    "\n",
    "    # Use Canny edge detection to detect strong boundaries of deforested regions\n",
    "    edges = cv2.Canny(thresh, 50, 150)\n",
    "\n",
    "    # Find contours in the edge-detected image\n",
    "    contours, _ = cv2.findContours(edges, cv2.RETR_TREE, cv2.CHAIN_APPROX_SIMPLE)\n",
    "\n",
    "    # Create a blank mask and draw contours\n",
    "    mask = np.zeros_like(gray)\n",
    "    cv2.drawContours(mask, contours, -1, (255), thickness=cv2.FILLED)\n",
    "\n",
    "    return img, mask\n",
    "\n"
   ]
  },
  {
   "cell_type": "code",
   "execution_count": 14,
   "id": "22a574ea-655b-48fc-a145-de9b6d89a2f8",
   "metadata": {},
   "outputs": [
    {
     "ename": "NameError",
     "evalue": "name 'classifier' is not defined",
     "output_type": "error",
     "traceback": [
      "\u001b[1;31m---------------------------------------------------------------------------\u001b[0m",
      "\u001b[1;31mNameError\u001b[0m                                 Traceback (most recent call last)",
      "Cell \u001b[1;32mIn[14], line 46\u001b[0m\n\u001b[0;32m     44\u001b[0m \u001b[38;5;66;03m# Run on a test image\u001b[39;00m\n\u001b[0;32m     45\u001b[0m test_image_path \u001b[38;5;241m=\u001b[39m \u001b[38;5;124m\"\u001b[39m\u001b[38;5;124mDeforestation_Data/test/Deforestation/-73.45352,45.585282.jpg\u001b[39m\u001b[38;5;124m\"\u001b[39m\n\u001b[1;32m---> 46\u001b[0m predict_deforestation(test_image_path)\n",
      "Cell \u001b[1;32mIn[14], line 6\u001b[0m, in \u001b[0;36mpredict_deforestation\u001b[1;34m(image_path)\u001b[0m\n\u001b[0;32m      3\u001b[0m img_array \u001b[38;5;241m=\u001b[39m img_to_array(img) \u001b[38;5;241m/\u001b[39m \u001b[38;5;241m255.0\u001b[39m\n\u001b[0;32m      4\u001b[0m img_array \u001b[38;5;241m=\u001b[39m np\u001b[38;5;241m.\u001b[39mexpand_dims(img_array, axis\u001b[38;5;241m=\u001b[39m\u001b[38;5;241m0\u001b[39m)\n\u001b[1;32m----> 6\u001b[0m prediction \u001b[38;5;241m=\u001b[39m classifier\u001b[38;5;241m.\u001b[39mpredict(img_array)[\u001b[38;5;241m0\u001b[39m][\u001b[38;5;241m0\u001b[39m]\n\u001b[0;32m      8\u001b[0m \u001b[38;5;28;01mif\u001b[39;00m prediction \u001b[38;5;241m>\u001b[39m \u001b[38;5;241m0.5\u001b[39m:\n\u001b[0;32m      9\u001b[0m     \u001b[38;5;28mprint\u001b[39m(\u001b[38;5;124m\"\u001b[39m\u001b[38;5;124m🛑 Deforestation Detected! Identifying affected areas...\u001b[39m\u001b[38;5;124m\"\u001b[39m)\n",
      "\u001b[1;31mNameError\u001b[0m: name 'classifier' is not defined"
     ]
    }
   ],
   "source": [
    "def predict_deforestation(image_path):\n",
    "    img = load_img(image_path, target_size=IMG_SIZE, color_mode=\"grayscale\")\n",
    "    img_array = img_to_array(img) / 255.0\n",
    "    img_array = np.expand_dims(img_array, axis=0)\n",
    "\n",
    "    prediction = classifier.predict(img_array)[0][0]\n",
    "\n",
    "    if prediction > 0.5:\n",
    "        print(\"🛑 Deforestation Detected! Identifying affected areas...\")\n",
    "\n",
    "        original, mask = refine_deforestation_mask(image_path)  # Get refined deforestation mask\n",
    "\n",
    "        # Convert mask to color and overlay it\n",
    "        mask_colored = cv2.applyColorMap(mask, cv2.COLORMAP_JET)\n",
    "        output = cv2.addWeighted(original, 0.7, mask_colored, 0.3, 0)\n",
    "\n",
    "        plt.figure(figsize=(10, 5))\n",
    "        plt.subplot(1, 3, 1)\n",
    "        plt.imshow(cv2.cvtColor(original, cv2.COLOR_BGR2RGB))\n",
    "        plt.title(\"Original Image\")\n",
    "        plt.axis(\"off\")\n",
    "\n",
    "        plt.subplot(1, 3, 2)\n",
    "        plt.imshow(mask, cmap=\"gray\")\n",
    "        plt.title(\"Detected Deforested Area\")\n",
    "        plt.axis(\"off\")\n",
    "\n",
    "        plt.subplot(1, 3, 3)\n",
    "        plt.imshow(cv2.cvtColor(output, cv2.COLOR_BGR2RGB))\n",
    "        plt.title(\"Final Output\")\n",
    "        plt.axis(\"off\")\n",
    "\n",
    "        plt.show()\n",
    "\n",
    "    else:\n",
    "        original, mask = refine_deforestation_mask(image_path)\n",
    "        plt.figure(figsize=(10, 5))\n",
    "        plt.subplot(1, 3, 1)\n",
    "        plt.imshow(cv2.cvtColor(original, cv2.COLOR_BGR2RGB))\n",
    "        plt.title(\"Original Image\")\n",
    "        plt.axis(\"off\")\n",
    "        print(\"✅ No deforestation detected.\")\n",
    "\n",
    "# Run on a test image\n",
    "test_image_path = \"Deforestation_Data/test/Deforestation/-73.45352,45.585282.jpg\"\n",
    "predict_deforestation(test_image_path)\n"
   ]
  },
  {
   "cell_type": "code",
   "execution_count": null,
   "id": "2aef9c28-d8a9-49f1-ae99-afaee5b1758f",
   "metadata": {},
   "outputs": [],
   "source": []
  }
 ],
 "metadata": {
  "kernelspec": {
   "display_name": "Python 3 (ipykernel)",
   "language": "python",
   "name": "python3"
  },
  "language_info": {
   "codemirror_mode": {
    "name": "ipython",
    "version": 3
   },
   "file_extension": ".py",
   "mimetype": "text/x-python",
   "name": "python",
   "nbconvert_exporter": "python",
   "pygments_lexer": "ipython3",
   "version": "3.12.3"
  }
 },
 "nbformat": 4,
 "nbformat_minor": 5
}
